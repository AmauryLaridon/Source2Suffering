{
 "cells": [
  {
   "cell_type": "markdown",
   "id": "75ccfd2b-e1d1-4107-b48f-c2388aafa79e",
   "metadata": {},
   "source": [
    "# Sandbox Jupyter Notebook to test main.py script\n",
    "---"
   ]
  },
  {
   "cell_type": "markdown",
   "id": "21602a9d-7047-4d9b-bd37-374430c4e7fd",
   "metadata": {},
   "source": [
    "## Modules needed that can be load with Jupyter Lab\n",
    "\n",
    "- xarray\n",
    "- cartopy\n",
    "- openpyxl\n",
    "\n",
    "## Modules needed that can't be load with Jupyter Lab\n",
    "\n",
    "- mapclassify 2.4.3\n",
    "   - Provide in geopandas/0.12.2-foss-2022a\n",
    "         - Works if we load geopandas from Jupyter Lab"
   ]
  },
  {
   "cell_type": "markdown",
   "id": "120bd82d-ede4-4196-b549-6d79392e32de",
   "metadata": {},
   "source": [
    "Change path to current directory path"
   ]
  },
  {
   "cell_type": "code",
   "execution_count": 3,
   "id": "a4c8c2f0-f726-43bf-921d-c3ee6c29e9be",
   "metadata": {},
   "outputs": [
    {
     "name": "stdout",
     "output_type": "stream",
     "text": [
      "Directory of the notebook: /vscmnt/brussel_pixiu_data/_data_brussel/111/vsc11137\n"
     ]
    }
   ],
   "source": [
    "import os\n",
    "\n",
    "notebook_path = os.getcwd()  # Current path\n",
    "print(\"Directory of the notebook:\", notebook_path)\n",
    "notebook_path = notebook_path\n",
    "\n",
    "os.chdir('/data/brussel/vo/000/bvo00012/vsc11137/source2suffering/sandbox') "
   ]
  },
  {
   "cell_type": "markdown",
   "id": "0e222076-3d88-48ed-84ae-839b42bec203",
   "metadata": {},
   "source": [
    "Here I copy part of luke's main.py script to test what are the needed python packages and if I can load them easily with Jupyter lab "
   ]
  },
  {
   "cell_type": "code",
   "execution_count": 4,
   "id": "33217168-6dbd-45f5-880a-a9c924e738ef",
   "metadata": {},
   "outputs": [],
   "source": [
    "#%%  ----------------------------------------------------------------\n",
    "# import and path\n",
    "# ----------------------------------------------------------------\n",
    "\n",
    "import xarray as xr\n",
    "import pickle as pk\n",
    "import time\n",
    "# from mpl_toolkits.axes_grid1 import make_axes_locatable\n",
    "import matplotlib as mpl\n",
    "import mapclassify as mc\n",
    "from copy import deepcopy as cp\n",
    "import os\n",
    "import matplotlib.pyplot as plt\n",
    "import matplotlib.gridspec as gridspec\n",
    "import cartopy.crs as ccrs\n",
    "import cartopy as cr\n",
    "import geopandas as gpd\n",
    "# import seaborn as sns # must comment this out for things to work on the server\n",
    "scriptsdir = os.getcwd()"
   ]
  },
  {
   "cell_type": "code",
   "execution_count": 3,
   "id": "8999c75d-3f24-4ff4-9713-88fd2c999d6a",
   "metadata": {},
   "outputs": [],
   "source": [
    "#%%------------------------------------------------------------------------------------\n",
    "# flags\n",
    "#--------------------------------------------------------------------------------------\n",
    "\n",
    "# extreme event\n",
    "global flags\n",
    "\n",
    "flags = {}\n",
    "\n",
    "flags['extr'] = 'heatwavedarea'                 # 0: all\n",
    "                                                # 1: burntarea\n",
    "                                                # 2: cropfailedarea\n",
    "                                                # 3: driedarea\n",
    "                                                # 4: floodedarea\n",
    "                                                # 5: heatwavedarea\n",
    "                                                # 6: tropicalcyclonedarea\n",
    "                                                # 7: waterscarcity\n",
    "\n",
    "flags['gmt'] = 'ar6_new'                        # original: use Wim's stylized trajectory approach with max trajectory a linear increase to 3.5 deg                               \n",
    "                                                # ar6: substitute the linear max wth the highest IASA c7 scenario (increasing to ~4.0), new lower bound, and new 1.5, 2.0, NDC (2.8), 3.0\n",
    "                                                # ar6_new: works off ar6, but ensures only 1.5-3.5 with perfect intervals of 0.1 degrees (less proc time and data volume)\n",
    "\n",
    "flags['rm'] = 'rm'                              # no_rm: no smoothing of RCP GMTs before mapping\n",
    "                                                # rm: 21-year rolling mean on RCP GMTs\n",
    " \n",
    "flags['version'] = 'pickles_v3'                 # pickles: original version, submitted to Nature\n",
    "                                                    # inconsistent GMT steps (not perfect 0.1 degree intervals)\n",
    "                                                    # GMT steps ranging 1-4 (although study only shows ~1.5-3.5, so runs are inefficient)\n",
    "                                                    # only 99.99% percentile for PIC threshold\n",
    "                                                # pickles_v2: version generated after submission to Nature in preparation for criticism/review\n",
    "                                                    # steps fixed in load_manip to be only 1.5-3.5, with clean 0.1 degree intervals\n",
    "                                                    # 5 percentiles for PIC threshold and emergence for each\n",
    "                                                # pickles_v3: version generated after the 2021 toolchains were taken away from hydra. could not longer use old pickles effectively\n",
    "\n",
    "flags['run'] = 0                                # 0: do not process ISIMIP runs (i.e. load runs pickle)\n",
    "                                                # 1: process ISIMIP runs (i.e. produce and save runs as pickle)\n",
    "\n",
    "flags['mask'] = 0                               # 0: do not process country data (i.e. load masks pickle)\n",
    "                                                # 1: process country data (i.e. produce and save masks as pickle)\n",
    "\n",
    "flags['lifetime_exposure_cohort'] = 0           # 0: do not process ISIMIP runs to compute exposure across cohorts (i.e. load exposure pickle)\n",
    "                                                # 1: process ISIMIP runs to compute exposure across cohorts (i.e. produce and save exposure as pickle)   \n",
    "                                                                     \n",
    "flags['lifetime_exposure_pic'] = 0              # 0: do not process ISIMIP runs to compute picontrol exposure (i.e. load exposure pickle)\n",
    "                                                # 1: process ISIMIP runs to compute picontrol exposure (i.e. produce and save exposure as pickle)\n",
    "\n",
    "flags['emergence'] = 0                          # 0: do not process ISIMIP runs to compute cohort emergence (i.e. load cohort exposure pickle)\n",
    "                                                # 1: process ISIMIP runs to compute cohort emergence (i.e. produce and save exposure as pickle)\n",
    "\n",
    "flags['birthyear_emergence'] = 0                # 0: only run calc_birthyear_align with birth years from 1960-2020\n",
    "                                                # 1: run calc_birthyear_align with birth years from 1960-2100     \n",
    "                        \n",
    "flags['gridscale'] = 0                          # 0: do not process grid scale analysis, load pickles\n",
    "                                                # 1: process grid scale analysis\n",
    "\n",
    "flags['gridscale_le_test'] = 0                  # 0: do not process the grid scale analysis testing diff versions of constant life expectancy\n",
    "                                                # 1: process grid scale analysis testing diff versions of constant life expectancy    \n",
    "                                                             \n",
    "flags['gridscale_country_subset'] = 0           # 0: run gridscale analysis on all countries\n",
    "                                                # 1: run gridscale analysis on subset of countries determined in \"get_gridscale_regions\" \n",
    "\n",
    "flags['global_emergence_recollect'] = 1         # 0: do not load pickles of global emergence masks\n",
    "                                                # 1: load pickles                  \n",
    "\n",
    "flags['global_avg_emergence'] = 0                                                                                                \n",
    "flags['gdp_deprivation'] = 0                    # 0: do not process/load lifetime GDP/GRDI average\n",
    "                                                # 1: load lifetime GDP average analysis     \n",
    "                                       \n",
    "flags['vulnerability'] = 0                      # 0: do not process subsets of d_collect_emergence vs gdp & deprivation quantiles\n",
    "                                                # 1: process/load d_collect_emergence vs gdp & deprivation quantiles for vulnerability analysis\n",
    "\n",
    "flags['plot_ms'] = 0 # 1 yes plot, 0 no plot\n",
    "\n",
    "flags['plot_si'] = 0\n",
    "\n",
    "flags['reporting'] = 0  \n",
    "\n",
    "flags['testing'] = 0   "
   ]
  },
  {
   "cell_type": "code",
   "execution_count": 4,
   "id": "9f9e60b3-d156-4858-aadf-68346c08c04e",
   "metadata": {},
   "outputs": [],
   "source": [
    "#%% ----------------------------------------------------------------\n",
    "# settings\n",
    "# ----------------------------------------------------------------\n",
    "\n",
    "from settings import *\n",
    "ages, age_young, age_ref, age_range, year_ref, year_start, birth_years, year_end, year_range, GMT_max, GMT_min, GMT_inc, RCP2GMT_maxdiff_threshold, year_start_GMT_ref, year_end_GMT_ref, scen_thresholds, GMT_labels, GMT_window, GMT_current_policies, pic_life_extent, nboots, resample_dim, pic_by, pic_qntl, pic_qntl_list, pic_qntl_labels, sample_birth_years, sample_countries, GMT_indices_plot, birth_years_plot, letters, basins = init()\n",
    "\n",
    "# set extremes based on flag (this needs to happen here as it uses the flags dict defined above)\n",
    "set_extremes(flags)"
   ]
  },
  {
   "cell_type": "code",
   "execution_count": 5,
   "id": "f7e412e9-1c8a-495a-b72a-304df337f38a",
   "metadata": {},
   "outputs": [],
   "source": [
    "#%% ----------------------------------------------------------------\n",
    "# load and manipulate demographic, GMT and ISIMIP data\n",
    "# ----------------------------------------------------------------\n",
    "\n",
    "from load_manip import *"
   ]
  },
  {
   "cell_type": "markdown",
   "id": "32d8dbf6-612f-414f-b185-6f62d3052f3d",
   "metadata": {},
   "source": [
    "Run settings.py to define the global variables and parameters"
   ]
  },
  {
   "cell_type": "code",
   "execution_count": 6,
   "id": "1ef72842-4ec5-4ef7-9216-a6ee67057bd3",
   "metadata": {},
   "outputs": [],
   "source": [
    "%run settings.py"
   ]
  },
  {
   "cell_type": "markdown",
   "id": "78dfb917-109a-492a-ace2-214c59576803",
   "metadata": {},
   "source": [
    "To run the code under we need to load the openpyxl module"
   ]
  },
  {
   "cell_type": "code",
   "execution_count": 7,
   "id": "e60826c7-b242-4160-9382-fb12c3e6ea9d",
   "metadata": {},
   "outputs": [
    {
     "ename": "UnboundLocalError",
     "evalue": "cannot access local variable 'GMT_max' where it is not associated with a value",
     "output_type": "error",
     "traceback": [
      "\u001b[0;31m---------------------------------------------------------------------------\u001b[0m",
      "\u001b[0;31mUnboundLocalError\u001b[0m                         Traceback (most recent call last)",
      "Cell \u001b[0;32mIn[7], line 5\u001b[0m\n\u001b[1;32m      1\u001b[0m \u001b[38;5;66;03m# --------------------------------------------------------------------\u001b[39;00m\n\u001b[1;32m      2\u001b[0m \u001b[38;5;66;03m# Load global mean temperature projections\u001b[39;00m\n\u001b[1;32m      3\u001b[0m \u001b[38;5;28;01mglobal\u001b[39;00m df_GMT_15, df_GMT_20, df_GMT_NDC, df_GMT_strj\n\u001b[0;32m----> 5\u001b[0m df_GMT_15, df_GMT_20, df_GMT_NDC, df_GMT_strj \u001b[38;5;241m=\u001b[39m \u001b[43mload_GMT\u001b[49m\u001b[43m(\u001b[49m\n\u001b[1;32m      6\u001b[0m \u001b[43m    \u001b[49m\u001b[43myear_start\u001b[49m\u001b[43m,\u001b[49m\n\u001b[1;32m      7\u001b[0m \u001b[43m    \u001b[49m\u001b[43myear_end\u001b[49m\u001b[43m,\u001b[49m\n\u001b[1;32m      8\u001b[0m \u001b[43m    \u001b[49m\u001b[43myear_range\u001b[49m\u001b[43m,\u001b[49m\n\u001b[1;32m      9\u001b[0m \u001b[43m    \u001b[49m\u001b[43mflags\u001b[49m\u001b[43m,\u001b[49m\n\u001b[1;32m     10\u001b[0m \u001b[43m)\u001b[49m\n",
      "File \u001b[0;32m/vscmnt/brussel_pixiu_data/_data_brussel/vo/000/bvo00012/vsc11137/source2suffering/references/lifetime_exposure_luke/load_manip.py:267\u001b[0m, in \u001b[0;36mload_GMT\u001b[0;34m(year_start, year_end, year_range, flags)\u001b[0m\n\u001b[1;32m    265\u001b[0m ind_fut_strtyr \u001b[38;5;241m=\u001b[39m \u001b[38;5;28mint\u001b[39m(np\u001b[38;5;241m.\u001b[39margwhere(np\u001b[38;5;241m.\u001b[39masarray(df_GMT_15\u001b[38;5;241m.\u001b[39mindex)\u001b[38;5;241m==\u001b[39mGMT_fut_strtyr))\n\u001b[1;32m    266\u001b[0m GMT_min \u001b[38;5;241m=\u001b[39m df_GMT_15\u001b[38;5;241m.\u001b[39mloc[GMT_fut_strtyr\u001b[38;5;241m-\u001b[39m\u001b[38;5;241m1\u001b[39m]\n\u001b[0;32m--> 267\u001b[0m GMT_steps \u001b[38;5;241m=\u001b[39m np\u001b[38;5;241m.\u001b[39marange(\u001b[38;5;241m0\u001b[39m,GMT_max\u001b[38;5;241m+\u001b[39mGMT_inc\u001b[38;5;241m/\u001b[39m\u001b[38;5;241m2\u001b[39m,GMT_inc)\n\u001b[1;32m    268\u001b[0m GMT_steps \u001b[38;5;241m=\u001b[39m np\u001b[38;5;241m.\u001b[39minsert(GMT_steps[np\u001b[38;5;241m.\u001b[39mwhere(GMT_steps\u001b[38;5;241m>\u001b[39mGMT_min)],\u001b[38;5;241m0\u001b[39m,GMT_min)\n\u001b[1;32m    269\u001b[0m n_steps \u001b[38;5;241m=\u001b[39m \u001b[38;5;28mlen\u001b[39m(GMT_steps)\n",
      "\u001b[0;31mUnboundLocalError\u001b[0m: cannot access local variable 'GMT_max' where it is not associated with a value"
     ]
    }
   ],
   "source": [
    "# --------------------------------------------------------------------\n",
    "# Load global mean temperature projections\n",
    "global df_GMT_15, df_GMT_20, df_GMT_NDC, df_GMT_strj\n",
    "\n",
    "df_GMT_15, df_GMT_20, df_GMT_NDC, df_GMT_strj = load_GMT(\n",
    "    year_start,\n",
    "    year_end,\n",
    "    year_range,\n",
    "    flags,\n",
    ")\n"
   ]
  },
  {
   "cell_type": "code",
   "execution_count": null,
   "id": "5e78fd56-68d1-471a-800e-e73741869631",
   "metadata": {},
   "outputs": [],
   "source": []
  },
  {
   "cell_type": "code",
   "execution_count": null,
   "id": "fdaf7477-c311-4968-a2b3-a5502b386609",
   "metadata": {},
   "outputs": [],
   "source": []
  },
  {
   "cell_type": "code",
   "execution_count": null,
   "id": "b369ff9b-465c-46bd-8912-4263f5e4a910",
   "metadata": {},
   "outputs": [],
   "source": []
  },
  {
   "cell_type": "code",
   "execution_count": null,
   "id": "43bb845e-621a-4a4c-9be3-a6bf75799651",
   "metadata": {},
   "outputs": [],
   "source": []
  }
 ],
 "metadata": {
  "kernelspec": {
   "display_name": "Python 3 (ipykernel)",
   "language": "python",
   "name": "python3"
  },
  "language_info": {
   "codemirror_mode": {
    "name": "ipython",
    "version": 3
   },
   "file_extension": ".py",
   "mimetype": "text/x-python",
   "name": "python",
   "nbconvert_exporter": "python",
   "pygments_lexer": "ipython3",
   "version": "3.11.3"
  }
 },
 "nbformat": 4,
 "nbformat_minor": 5
}
