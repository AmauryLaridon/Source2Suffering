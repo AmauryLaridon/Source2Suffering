{
 "cells": [
  {
   "cell_type": "markdown",
   "id": "21602a9d-7047-4d9b-bd37-374430c4e7fd",
   "metadata": {},
   "source": [
    "# Sandbox Jupyter Notebook for Source2Suffering\n",
    "\n",
    "Modules needed that can be load with Jupyter Lab\n",
    "\n",
    "- xarray\n",
    "- cartopy\n",
    "- openpyxl\n",
    "\n",
    "Modules needed that can't be load with Jupyter Lab\n",
    "\n",
    "- mapclassify 2.4.3\n",
    "   - Provide in geopandas/0.12.2-foss-2022a\n",
    "         - Works if we load geopandas from Jupyter Lab\n",
    "\n",
    "---"
   ]
  },
  {
   "cell_type": "markdown",
   "id": "120bd82d-ede4-4196-b549-6d79392e32de",
   "metadata": {},
   "source": [
    "Change path to current directory path"
   ]
  },
  {
   "cell_type": "code",
   "execution_count": 35,
   "id": "a4c8c2f0-f726-43bf-921d-c3ee6c29e9be",
   "metadata": {},
   "outputs": [
    {
     "name": "stdout",
     "output_type": "stream",
     "text": [
      "Directory of the notebook: /vscmnt/brussel_pixiu_data/_data_brussel/vo/000/bvo00012/vsc11137/source2suffering/sandbox\n"
     ]
    }
   ],
   "source": [
    "import os\n",
    "\n",
    "notebook_path = os.getcwd()  # Current path\n",
    "print(\"Directory of the notebook:\", notebook_path)\n",
    "notebook_path = notebook_path\n",
    "\n",
    "scripts_dir = \"/data/brussel/vo/000/bvo00012/vsc11137/source2suffering\"\n",
    "data_dir = scripts_dir+\"/data/\""
   ]
  },
  {
   "cell_type": "markdown",
   "id": "0e222076-3d88-48ed-84ae-839b42bec203",
   "metadata": {},
   "source": [
    "Libraries"
   ]
  },
  {
   "cell_type": "code",
   "execution_count": 36,
   "id": "33217168-6dbd-45f5-880a-a9c924e738ef",
   "metadata": {},
   "outputs": [],
   "source": [
    "#%%  ----------------------------------------------------------------\n",
    "# import and path\n",
    "# ----------------------------------------------------------------\n",
    "\n",
    "import xarray as xr\n",
    "import pickle as pk\n",
    "import time\n",
    "# from mpl_toolkits.axes_grid1 import make_axes_locatable\n",
    "import matplotlib as mpl\n",
    "import mapclassify as mc\n",
    "from copy import deepcopy as cp\n",
    "import os\n",
    "import matplotlib.pyplot as plt\n",
    "import matplotlib.gridspec as gridspec\n",
    "import cartopy.crs as ccrs\n",
    "import cartopy as cr\n",
    "import geopandas as gpd\n",
    "import sys\n",
    "from operator import index\n",
    "import numpy as np\n",
    "import pandas as pd\n",
    "from scipy import interpolate\n",
    "from scipy import stats as sts\n",
    "import regionmask as rm\n",
    "import glob\n"
   ]
  },
  {
   "cell_type": "markdown",
   "id": "8acf10aa",
   "metadata": {},
   "source": [
    "## Visualization of objects"
   ]
  },
  {
   "cell_type": "markdown",
   "id": "4d1f5b8e",
   "metadata": {},
   "source": [
    "exposure_peryear_perage_percountry_{extr}_{ISIMIP_run}.pkl"
   ]
  },
  {
   "cell_type": "code",
   "execution_count": 37,
   "id": "ffd3d318",
   "metadata": {},
   "outputs": [],
   "source": [
    "with open(data_dir+'{}/{}/exposure_peryear_perage_percountry_{}_{}.pkl'.format('pickles_v3','heatwavedarea','heatwavedarea',5), 'rb') as f:\n",
    "            da_exposure_peryear_perage_percountry_strj_heatwavedarea_sim=pk.load(f)   "
   ]
  },
  {
   "cell_type": "code",
   "execution_count": 38,
   "id": "258a9614",
   "metadata": {},
   "outputs": [
    {
     "name": "stdout",
     "output_type": "stream",
     "text": [
      "<class 'xarray.core.dataarray.DataArray'>\n",
      "(177, 154, 101, 21)\n",
      "<xarray.DataArray (country: 177, time: 154, ages: 101, GMT: 21)>\n",
      "array([[[[0.        , 0.        , 0.        , ..., 0.        ,\n",
      "          0.        , 0.        ],\n",
      "         [0.        , 0.        , 0.        , ..., 0.        ,\n",
      "          0.        , 0.        ],\n",
      "         [0.        , 0.        , 0.        , ..., 0.        ,\n",
      "          0.        , 0.        ],\n",
      "         ...,\n",
      "         [0.        , 0.        , 0.        , ..., 0.        ,\n",
      "          0.        , 0.        ],\n",
      "         [0.        , 0.        , 0.        , ..., 0.        ,\n",
      "          0.        , 0.        ],\n",
      "         [0.        , 0.        , 0.        , ..., 0.        ,\n",
      "          0.        , 0.        ]],\n",
      "\n",
      "        [[0.        , 0.        , 0.        , ..., 0.        ,\n",
      "          0.        , 0.        ],\n",
      "         [0.        , 0.        , 0.        , ..., 0.        ,\n",
      "          0.        , 0.        ],\n",
      "         [0.        , 0.        , 0.        , ..., 0.        ,\n",
      "          0.        , 0.        ],\n",
      "...\n",
      "         [0.        , 0.        , 0.        , ..., 0.97776419,\n",
      "          1.00000012, 0.99523169],\n",
      "         [0.        , 0.        , 0.        , ..., 0.97776419,\n",
      "          1.00000012, 0.99523169],\n",
      "         [0.        , 0.        , 0.        , ..., 0.97776419,\n",
      "          1.00000012, 0.99523169]],\n",
      "\n",
      "        [[0.        , 0.        , 0.        , ..., 0.97776419,\n",
      "          1.00000012, 0.99523169],\n",
      "         [0.        , 0.        , 0.        , ..., 0.97776419,\n",
      "          1.00000012, 0.99523169],\n",
      "         [0.        , 0.        , 0.        , ..., 0.97776419,\n",
      "          1.00000012, 0.99523169],\n",
      "         ...,\n",
      "         [0.        , 0.        , 0.        , ..., 0.97776419,\n",
      "          1.00000012, 0.99523169],\n",
      "         [0.        , 0.        , 0.        , ..., 0.97776419,\n",
      "          1.00000012, 0.99523169],\n",
      "         [0.        , 0.        , 0.        , ..., 0.97776419,\n",
      "          1.00000012, 0.99523169]]]])\n",
      "Coordinates:\n",
      "  * country  (country) <U32 'Afghanistan' 'Angola' ... 'Zambia' 'Zimbabwe'\n",
      "  * time     (time) int64 1960 1961 1962 1963 1964 ... 2109 2110 2111 2112 2113\n",
      "  * ages     (ages) int64 100 99 98 97 96 95 94 93 92 91 ... 9 8 7 6 5 4 3 2 1 0\n",
      "  * GMT      (GMT) int64 0 1 2 3 4 5 6 7 8 9 10 11 12 13 14 15 16 17 18 19 20\n"
     ]
    }
   ],
   "source": [
    "print(type(da_exposure_peryear_perage_percountry_strj_heatwavedarea_sim))\n",
    "print(np.shape(da_exposure_peryear_perage_percountry_strj_heatwavedarea_sim))\n",
    "print(da_exposure_peryear_perage_percountry_strj_heatwavedarea_sim)"
   ]
  },
  {
   "cell_type": "code",
   "execution_count": 39,
   "id": "0e70a1f2",
   "metadata": {},
   "outputs": [
    {
     "name": "stdout",
     "output_type": "stream",
     "text": [
      "(array([  0,   0,   0, ..., 153, 153, 153]), array([  0,   0,   0, ..., 100, 100, 100]), array([ 0,  1,  2, ..., 18, 19, 20]))\n"
     ]
    }
   ],
   "source": [
    "da_subset = da_exposure_peryear_perage_percountry_strj_heatwavedarea_sim.sel(country='Egypt')\n",
    "non_nan_indices = np.where(~np.isnan(da_subset.values))\n",
    "print(non_nan_indices)"
   ]
  },
  {
   "cell_type": "code",
   "execution_count": 40,
   "id": "fa6505a1",
   "metadata": {},
   "outputs": [
    {
     "name": "stdout",
     "output_type": "stream",
     "text": [
      "<xarray.DataArray ()>\n",
      "array(0.090036)\n",
      "Coordinates:\n",
      "    country  <U32 'Egypt'\n",
      "    time     int64 2030\n",
      "    ages     int64 10\n",
      "    GMT      int64 1\n"
     ]
    }
   ],
   "source": [
    "print(da_subset.sel(time=2030,ages=10,GMT=1))"
   ]
  },
  {
   "cell_type": "code",
   "execution_count": 41,
   "id": "9497ad5b",
   "metadata": {},
   "outputs": [],
   "source": [
    "da_values_all_times = da_subset.sel(time=slice(None))  # slice(None) sélectionne toutes les valeurs de la dimension time\n",
    "y_values = da_values_all_times.sel(ages=10, GMT=20)\n",
    "\n",
    "plt.plot(da_subset.sel(ages=10,GMT=20),y_values)\n",
    "plt.show()\n",
    "plt.savefig(scripts_dir+'/sandbox/figures/fig1.png')"
   ]
  }
 ],
 "metadata": {
  "kernelspec": {
   "display_name": "Python 3",
   "language": "python",
   "name": "python3"
  },
  "language_info": {
   "codemirror_mode": {
    "name": "ipython",
    "version": 3
   },
   "file_extension": ".py",
   "mimetype": "text/x-python",
   "name": "python",
   "nbconvert_exporter": "python",
   "pygments_lexer": "ipython3",
   "version": "3.10.4"
  }
 },
 "nbformat": 4,
 "nbformat_minor": 5
}
